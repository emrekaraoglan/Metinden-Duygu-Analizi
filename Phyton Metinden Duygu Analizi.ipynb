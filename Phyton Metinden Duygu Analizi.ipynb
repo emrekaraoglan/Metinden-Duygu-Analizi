{
 "cells": [
  {
   "cell_type": "code",
   "execution_count": 50,
   "id": "53d8fdd1",
   "metadata": {},
   "outputs": [],
   "source": [
    "from textblob import TextBlob\n",
    "\n",
    "# Textblob kütüphanesinin yüklenmesi"
   ]
  },
  {
   "cell_type": "code",
   "execution_count": 51,
   "id": "b0d20d1a",
   "metadata": {},
   "outputs": [],
   "source": [
    "text1 = \"Dövüş Kulübü'nün birinci kuralı, kimseye kulüpten bahsetmemektir.\"\n",
    "\n",
    "# Analizi yapılacak ilk cümle"
   ]
  },
  {
   "cell_type": "code",
   "execution_count": 52,
   "id": "b4648fbd",
   "metadata": {},
   "outputs": [],
   "source": [
    "tb1 = TextBlob(text1)\n",
    "\n",
    "# Analizi yapılacak cümleyi Textblob objesine dönüştürme"
   ]
  },
  {
   "cell_type": "code",
   "execution_count": 53,
   "id": "3bb40e43",
   "metadata": {},
   "outputs": [],
   "source": [
    "text1_eng = tb1.translate(from_lang=\"tr\", to=\"en\")\n",
    "\n",
    "# Cümleyi İngilizce'ye çevirme"
   ]
  },
  {
   "cell_type": "code",
   "execution_count": 54,
   "id": "bfd9af72",
   "metadata": {},
   "outputs": [],
   "source": [
    "# Metnin içerdiği duygu polarity değeri ile anlaşılır.\n",
    "# Polarity değeri > 0 ise metin olumlu duygu içerir.\n",
    "# Polarity değeri < 0 ise metin olumsuz duygu içerir.\n",
    "\n",
    "# Metnin subjektiflik değeri (subjectivity) 0 ile 1 arasında değer alır.\n",
    "# Subjectivity, 1'e yakınsa cümle subjektiftir.\n",
    "# Subjectivity, 0'a yakınsa cümle objektiftir."
   ]
  },
  {
   "cell_type": "code",
   "execution_count": 55,
   "id": "b0320dc1",
   "metadata": {},
   "outputs": [
    {
     "name": "stdout",
     "output_type": "stream",
     "text": [
      "Orijinal Metin:  Dövüş Kulübü'nün birinci kuralı, kimseye kulüpten bahsetmemektir.\n",
      "İngilizce Çeviri:  The first rule of the Fight Club is not to tell anyone about the club. \n",
      "\n",
      "Sentiment(polarity=0.25, subjectivity=0.3333333333333333) \n",
      "\n",
      "Bu cümle olumlu duygu barındırır.\n"
     ]
    }
   ],
   "source": [
    "print(\"Orijinal Metin: \", text1)\n",
    "print(\"İngilizce Çeviri: \", text1_eng, \"\\n\")\n",
    "print(text1_eng.sentiment, \"\\n\")\n",
    "if text1_eng.sentiment.polarity>0:\n",
    "    print (\"Bu cümle olumlu duygu barındırır.\")\n",
    "elif text1_eng.sentiment.polarity<0:\n",
    "    print(\"Bu cümle olumsuz duygu barındırır.\")\n",
    "else:\n",
    "    print(\"Bu cümle duygu barındırmaz.\")"
   ]
  },
  {
   "cell_type": "code",
   "execution_count": null,
   "id": "b60cb3c8",
   "metadata": {},
   "outputs": [],
   "source": []
  },
  {
   "cell_type": "code",
   "execution_count": 56,
   "id": "97d91695",
   "metadata": {},
   "outputs": [
    {
     "name": "stdout",
     "output_type": "stream",
     "text": [
      "Orijinal Metin:  Süper ligin 10. haftasında Adana Demirspor deplasmanda Kasımpaşa ile karşılaştı. \n",
      "        Her iki takımın yüksek tempoda oynadığı müsabakada gülen taraf Adana Demirspor oldu.\n",
      "        İlk yarıda önce Belhanda topu ağlara gönderirken ardından da Akintola'ya asisti yaptı\n",
      "        ve ilk yarıyı Adana Demirspor 2-0 önde kapattı. İkinci yarıya Kasımpaşa, hızlı başlayan\n",
      "        taraf oldu ve Bahoken'in golü ile farkı bire indirdi. Ardından Onyekuru ve N'diaye ile 2 gol daha\n",
      "        atan Adana Demirspor, maçı deplasmanda 4-1 kazandı.\n",
      "İngilizce Çeviri:  In the 10th week of the Super League, Adana Demirspor faced away with Kasımpaşa away.\n",
      "        In the competition played by both teams at the high pace, the smiling side was Adana Demirspor.\n",
      "        In the first half, Belhanda sent the ball to the nets and then made the assist to Akinthola\n",
      "        And the first half of Adana Demirspor closed 2-0 ahead. Kasımpaşa in the second half, starting fast\n",
      "        He became a party and lowered the difference with Bahoken's goal. Then 2 more goals with Onyekuru and N'diaye\n",
      "        Atan Adana Demirspor won the match 4-1 away. \n",
      "\n",
      "Sentiment(polarity=0.09111111111111113, subjectivity=0.3061111111111111) \n",
      "\n",
      "Bu metin olumlu duygu barındırır.\n",
      "Bu metin % 69.39 oranında objektiftir.\n"
     ]
    }
   ],
   "source": [
    "# Haber Örneği\n",
    "\n",
    "text2 = '''Süper ligin 10. haftasında Adana Demirspor deplasmanda Kasımpaşa ile karşılaştı. \n",
    "        Her iki takımın yüksek tempoda oynadığı müsabakada gülen taraf Adana Demirspor oldu.\n",
    "        İlk yarıda önce Belhanda topu ağlara gönderirken ardından da Akintola'ya asisti yaptı\n",
    "        ve ilk yarıyı Adana Demirspor 2-0 önde kapattı. İkinci yarıya Kasımpaşa, hızlı başlayan\n",
    "        taraf oldu ve Bahoken'in golü ile farkı bire indirdi. Ardından Onyekuru ve N'diaye ile 2 gol daha\n",
    "        atan Adana Demirspor, maçı deplasmanda 4-1 kazandı.'''\n",
    "\n",
    "tb2 = TextBlob(text2)\n",
    "text2_eng = tb2.translate(from_lang=\"tr\", to=\"en\")\n",
    "print(\"Orijinal Metin: \", text2)\n",
    "print(\"İngilizce Çeviri: \", text2_eng, \"\\n\")\n",
    "print(text2_eng.sentiment, \"\\n\")\n",
    "if text2_eng.sentiment.polarity>0:\n",
    "    print (\"Bu metin olumlu duygu barındırır.\")\n",
    "    if text2_eng.sentiment.subjectivity>0.5:\n",
    "        print(f\"Bu metin % {(text2_eng.sentiment.subjectivity)*100:.2f} oranında subjektiftir.\")\n",
    "    elif text2_eng.sentiment.subjectivity<0.5:\n",
    "        print(f\"Bu metin % {(100-(text2_eng.sentiment.subjectivity)*100):.2f} oranında objektiftir.\")\n",
    "    else:\n",
    "        print(f\"Bu metinde subjektif ve objektif görüş %50 - %50 dengededir.\")\n",
    "elif text2_eng.sentiment.polarity<0:\n",
    "    print(\"Bu metin olumsuz duygu barındırır.\")\n",
    "    if text2_eng.sentiment.subjectivity>0.5:\n",
    "        print(f\"Bu metin % {(text2_eng.sentiment.subjectivity)*100:.2f} oranında subjektiftir.\")\n",
    "    elif text2_eng.sentiment.subjectivity<0.5:\n",
    "        print(f\"Bu metin % {(100-(text2_eng.sentiment.subjectivity)*100):.2f} oranında objektiftir.\")\n",
    "    else:\n",
    "        print(f\"Bu metinde subjektif ve objektif görüş %50 - %50 dengededir.\")\n",
    "else:\n",
    "    print(\"Bu metin duygu barındırmaz.\")\n",
    "    if text2_eng.sentiment.subjectivity>0.5:\n",
    "        print(f\"Bu metin % {(text2_eng.sentiment.subjectivity)*100:.2f} oranında subjektiftir.\")\n",
    "    elif text2_eng.sentiment.subjectivity<0.5:\n",
    "        print(f\"Bu metin % {(100-(text2_eng.sentiment.subjectivity)*100):.2f} oranında objektiftir.\")\n",
    "    else:\n",
    "        print(f\"Bu metinde subjektif ve objektif görüş %50 - %50 dengededir.\")"
   ]
  },
  {
   "cell_type": "code",
   "execution_count": 57,
   "id": "9f289fb3",
   "metadata": {},
   "outputs": [
    {
     "name": "stdout",
     "output_type": "stream",
     "text": [
      "Orijinal Metin:  Yıllar boyunca alt liglerde oynadıktan sonra takımımızı bu durumda görmek harika.\n",
      "        Takım muhteşem oynuyor. Bu sene şampiyon olacağımıza inanıyorum.\n",
      "İngilizce Çeviri:  After playing in the lower leagues for years, it is great to see our team in this situation.\n",
      "        The team is playing amazing. I believe we will be the champion this year. \n",
      "\n",
      "Sentiment(polarity=0.7000000000000001, subjectivity=0.825) \n",
      "\n",
      "Bu mesaj olumlu duygu barındırır.\n",
      "Bu mesaj % 82.50 oranında subjektiftir.\n"
     ]
    }
   ],
   "source": [
    "# Sosyal Medya Mesajı Örneği\n",
    "\n",
    "text3 = '''Yıllar boyunca alt liglerde oynadıktan sonra takımımızı bu durumda görmek harika.\n",
    "        Takım muhteşem oynuyor. Bu sene şampiyon olacağımıza inanıyorum.'''\n",
    "\n",
    "tb3 = TextBlob(text3)\n",
    "text3_eng = tb3.translate(from_lang=\"tr\", to=\"en\")\n",
    "print(\"Orijinal Metin: \", text3)\n",
    "print(\"İngilizce Çeviri: \", text3_eng, \"\\n\")\n",
    "print(text3_eng.sentiment, \"\\n\")\n",
    "if text3_eng.sentiment.polarity>0:\n",
    "    print(\"Bu mesaj olumlu duygu barındırır.\")\n",
    "    if text3_eng.sentiment.subjectivity>0.5:\n",
    "        print(f\"Bu mesaj % {(text3_eng.sentiment.subjectivity)*100:.2f} oranında subjektiftir.\")\n",
    "    elif text3_eng.sentiment.subjectivity<0.5:\n",
    "        print(f\"Bu mesaj % {(100-(text3_eng.sentiment.subjectivity)*100):.2f} oranında objektiftir.\")\n",
    "    else:\n",
    "        print(f\"Bu metinde subjektif ve objektif görüş %50 - %50 dengededir.\")\n",
    "elif text3_eng.sentiment.polarity<0:\n",
    "    print(\"Bu mesaj olumsuz duygu barındırır.\")\n",
    "    if text3_eng.sentiment.subjectivity>0.5:\n",
    "        print(f\"Bu mesaj % {(text3_eng.sentiment.subjectivity)*100:.2f} oranında subjektiftir.\")\n",
    "    elif text3_eng.sentiment.subjectivity<0.5:\n",
    "        print(f\"Bu mesaj % {(100-(text3_eng.sentiment.subjectivity)*100):.2f} oranında objektiftir.\")\n",
    "    else:\n",
    "        print(f\"Bu metinde subjektif ve objektif görüş %50 - %50 dengededir.\")\n",
    "else:\n",
    "    print(\"Bu mesaj duygu barındırmaz.\")\n",
    "    if text3_eng.sentiment.subjectivity>0.5:\n",
    "        print(f\"Bu mesaj % {(text3_eng.sentiment.subjectivity)*100:.2f} oranında subjektiftir.\")\n",
    "    elif text3_eng.sentiment.subjectivity<0.5:\n",
    "        print(f\"Bu mesaj % {(100-(text3_eng.sentiment.subjectivity)*100):.2f} oranında objektiftir.\")\n",
    "    else:\n",
    "        print(f\"Bu metinde subjektif ve objektif görüş %50 - %50 dengededir.\")"
   ]
  },
  {
   "cell_type": "code",
   "execution_count": null,
   "id": "a5d8e056",
   "metadata": {},
   "outputs": [],
   "source": []
  }
 ],
 "metadata": {
  "kernelspec": {
   "display_name": "Python 3 (ipykernel)",
   "language": "python",
   "name": "python3"
  },
  "language_info": {
   "codemirror_mode": {
    "name": "ipython",
    "version": 3
   },
   "file_extension": ".py",
   "mimetype": "text/x-python",
   "name": "python",
   "nbconvert_exporter": "python",
   "pygments_lexer": "ipython3",
   "version": "3.9.7"
  }
 },
 "nbformat": 4,
 "nbformat_minor": 5
}
